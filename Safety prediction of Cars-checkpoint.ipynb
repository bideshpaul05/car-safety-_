{
 "cells": [
  {
   "cell_type": "code",
   "execution_count": 25,
   "id": "d251c475",
   "metadata": {},
   "outputs": [],
   "source": [
    "import pandas as pd\n",
    "import numpy as np\n",
    "import sklearn\n",
    "import matplotlib.pyplot as plt"
   ]
  },
  {
   "cell_type": "code",
   "execution_count": 26,
   "id": "659e1e8d",
   "metadata": {},
   "outputs": [],
   "source": [
    "data = pd.read_csv('car.csv')"
   ]
  },
  {
   "cell_type": "code",
   "execution_count": 27,
   "id": "92ea033c",
   "metadata": {},
   "outputs": [
    {
     "data": {
      "text/html": [
       "<div>\n",
       "<style scoped>\n",
       "    .dataframe tbody tr th:only-of-type {\n",
       "        vertical-align: middle;\n",
       "    }\n",
       "\n",
       "    .dataframe tbody tr th {\n",
       "        vertical-align: top;\n",
       "    }\n",
       "\n",
       "    .dataframe thead th {\n",
       "        text-align: right;\n",
       "    }\n",
       "</style>\n",
       "<table border=\"1\" class=\"dataframe\">\n",
       "  <thead>\n",
       "    <tr style=\"text-align: right;\">\n",
       "      <th></th>\n",
       "      <th>buying</th>\n",
       "      <th>maint</th>\n",
       "      <th>doors</th>\n",
       "      <th>persons</th>\n",
       "      <th>lug_boot</th>\n",
       "      <th>safety</th>\n",
       "      <th>class_val</th>\n",
       "    </tr>\n",
       "  </thead>\n",
       "  <tbody>\n",
       "    <tr>\n",
       "      <th>0</th>\n",
       "      <td>vhigh</td>\n",
       "      <td>vhigh</td>\n",
       "      <td>2</td>\n",
       "      <td>2</td>\n",
       "      <td>small</td>\n",
       "      <td>low</td>\n",
       "      <td>unacc</td>\n",
       "    </tr>\n",
       "    <tr>\n",
       "      <th>1</th>\n",
       "      <td>vhigh</td>\n",
       "      <td>vhigh</td>\n",
       "      <td>2</td>\n",
       "      <td>2</td>\n",
       "      <td>small</td>\n",
       "      <td>med</td>\n",
       "      <td>unacc</td>\n",
       "    </tr>\n",
       "    <tr>\n",
       "      <th>2</th>\n",
       "      <td>vhigh</td>\n",
       "      <td>vhigh</td>\n",
       "      <td>2</td>\n",
       "      <td>2</td>\n",
       "      <td>small</td>\n",
       "      <td>high</td>\n",
       "      <td>unacc</td>\n",
       "    </tr>\n",
       "    <tr>\n",
       "      <th>3</th>\n",
       "      <td>vhigh</td>\n",
       "      <td>vhigh</td>\n",
       "      <td>2</td>\n",
       "      <td>2</td>\n",
       "      <td>med</td>\n",
       "      <td>low</td>\n",
       "      <td>unacc</td>\n",
       "    </tr>\n",
       "    <tr>\n",
       "      <th>4</th>\n",
       "      <td>vhigh</td>\n",
       "      <td>vhigh</td>\n",
       "      <td>2</td>\n",
       "      <td>2</td>\n",
       "      <td>med</td>\n",
       "      <td>med</td>\n",
       "      <td>unacc</td>\n",
       "    </tr>\n",
       "  </tbody>\n",
       "</table>\n",
       "</div>"
      ],
      "text/plain": [
       "  buying  maint doors persons lug_boot safety class_val\n",
       "0  vhigh  vhigh     2       2    small    low     unacc\n",
       "1  vhigh  vhigh     2       2    small    med     unacc\n",
       "2  vhigh  vhigh     2       2    small   high     unacc\n",
       "3  vhigh  vhigh     2       2      med    low     unacc\n",
       "4  vhigh  vhigh     2       2      med    med     unacc"
      ]
     },
     "execution_count": 27,
     "metadata": {},
     "output_type": "execute_result"
    }
   ],
   "source": [
    "data.head(5)"
   ]
  },
  {
   "cell_type": "code",
   "execution_count": 28,
   "id": "5a9ee712",
   "metadata": {},
   "outputs": [
    {
     "data": {
      "text/plain": [
       "(1728, 7)"
      ]
     },
     "execution_count": 28,
     "metadata": {},
     "output_type": "execute_result"
    }
   ],
   "source": [
    "data.shape"
   ]
  },
  {
   "cell_type": "code",
   "execution_count": 29,
   "id": "d8b737c6",
   "metadata": {},
   "outputs": [
    {
     "data": {
      "text/html": [
       "<div>\n",
       "<style scoped>\n",
       "    .dataframe tbody tr th:only-of-type {\n",
       "        vertical-align: middle;\n",
       "    }\n",
       "\n",
       "    .dataframe tbody tr th {\n",
       "        vertical-align: top;\n",
       "    }\n",
       "\n",
       "    .dataframe thead th {\n",
       "        text-align: right;\n",
       "    }\n",
       "</style>\n",
       "<table border=\"1\" class=\"dataframe\">\n",
       "  <thead>\n",
       "    <tr style=\"text-align: right;\">\n",
       "      <th></th>\n",
       "      <th>buying</th>\n",
       "      <th>maint</th>\n",
       "      <th>doors</th>\n",
       "      <th>persons</th>\n",
       "      <th>lug_boot</th>\n",
       "      <th>safety</th>\n",
       "      <th>class_val</th>\n",
       "    </tr>\n",
       "  </thead>\n",
       "  <tbody>\n",
       "    <tr>\n",
       "      <th>1723</th>\n",
       "      <td>low</td>\n",
       "      <td>low</td>\n",
       "      <td>5more</td>\n",
       "      <td>more</td>\n",
       "      <td>med</td>\n",
       "      <td>med</td>\n",
       "      <td>good</td>\n",
       "    </tr>\n",
       "    <tr>\n",
       "      <th>1724</th>\n",
       "      <td>low</td>\n",
       "      <td>low</td>\n",
       "      <td>5more</td>\n",
       "      <td>more</td>\n",
       "      <td>med</td>\n",
       "      <td>high</td>\n",
       "      <td>vgood</td>\n",
       "    </tr>\n",
       "    <tr>\n",
       "      <th>1725</th>\n",
       "      <td>low</td>\n",
       "      <td>low</td>\n",
       "      <td>5more</td>\n",
       "      <td>more</td>\n",
       "      <td>big</td>\n",
       "      <td>low</td>\n",
       "      <td>unacc</td>\n",
       "    </tr>\n",
       "    <tr>\n",
       "      <th>1726</th>\n",
       "      <td>low</td>\n",
       "      <td>low</td>\n",
       "      <td>5more</td>\n",
       "      <td>more</td>\n",
       "      <td>big</td>\n",
       "      <td>med</td>\n",
       "      <td>good</td>\n",
       "    </tr>\n",
       "    <tr>\n",
       "      <th>1727</th>\n",
       "      <td>low</td>\n",
       "      <td>low</td>\n",
       "      <td>5more</td>\n",
       "      <td>more</td>\n",
       "      <td>big</td>\n",
       "      <td>high</td>\n",
       "      <td>vgood</td>\n",
       "    </tr>\n",
       "  </tbody>\n",
       "</table>\n",
       "</div>"
      ],
      "text/plain": [
       "     buying maint  doors persons lug_boot safety class_val\n",
       "1723    low   low  5more    more      med    med      good\n",
       "1724    low   low  5more    more      med   high     vgood\n",
       "1725    low   low  5more    more      big    low     unacc\n",
       "1726    low   low  5more    more      big    med      good\n",
       "1727    low   low  5more    more      big   high     vgood"
      ]
     },
     "execution_count": 29,
     "metadata": {},
     "output_type": "execute_result"
    }
   ],
   "source": [
    "data.tail(5)"
   ]
  },
  {
   "cell_type": "code",
   "execution_count": 30,
   "id": "7f4a1a47",
   "metadata": {},
   "outputs": [],
   "source": [
    "from sklearn import preprocessing"
   ]
  },
  {
   "cell_type": "code",
   "execution_count": 31,
   "id": "17e0b187",
   "metadata": {},
   "outputs": [],
   "source": [
    "le= preprocessing.LabelEncoder()"
   ]
  },
  {
   "cell_type": "code",
   "execution_count": 32,
   "id": "3ba9f80d",
   "metadata": {},
   "outputs": [],
   "source": [
    "buying = le.fit_transform(list(data['buying']))"
   ]
  },
  {
   "cell_type": "code",
   "execution_count": 33,
   "id": "4beea1b1",
   "metadata": {},
   "outputs": [],
   "source": [
    "maint = le.fit_transform(list(data['maint']))\n",
    "doors = le.fit_transform(list(data['doors']))\n",
    "persons = le.fit_transform(list(data['persons']))\n",
    "safety = le.fit_transform(list(data['safety']))"
   ]
  },
  {
   "cell_type": "code",
   "execution_count": 34,
   "id": "082a7290",
   "metadata": {},
   "outputs": [],
   "source": [
    "lug_boot = le.fit_transform(list(data['lug_boot']))\n",
    "cls = le.fit_transform(list(data['class_val']))"
   ]
  },
  {
   "cell_type": "code",
   "execution_count": 35,
   "id": "82a5433e",
   "metadata": {},
   "outputs": [],
   "source": [
    "predict = \"class_val\""
   ]
  },
  {
   "cell_type": "code",
   "execution_count": 36,
   "id": "b11c4220",
   "metadata": {},
   "outputs": [],
   "source": [
    "x = list(zip(buying,maint,doors,persons,lug_boot,safety))"
   ]
  },
  {
   "cell_type": "code",
   "execution_count": 37,
   "id": "d884d155",
   "metadata": {},
   "outputs": [],
   "source": [
    "y=list(cls)"
   ]
  },
  {
   "cell_type": "code",
   "execution_count": 38,
   "id": "771995d3",
   "metadata": {},
   "outputs": [],
   "source": [
    "from sklearn.model_selection import train_test_split"
   ]
  },
  {
   "cell_type": "code",
   "execution_count": 39,
   "id": "a7c5692e",
   "metadata": {},
   "outputs": [],
   "source": [
    "x_train,x_test,y_train,y_test = train_test_split(x,y,test_size= 0.1)"
   ]
  },
  {
   "cell_type": "code",
   "execution_count": 40,
   "id": "e9719abe",
   "metadata": {},
   "outputs": [],
   "source": [
    " from sklearn import linear_model"
   ]
  },
  {
   "cell_type": "code",
   "execution_count": 41,
   "id": "4b648433",
   "metadata": {},
   "outputs": [],
   "source": [
    "from sklearn.neighbors  import KNeighborsClassifier"
   ]
  },
  {
   "cell_type": "code",
   "execution_count": 42,
   "id": "52f6241b",
   "metadata": {},
   "outputs": [],
   "source": [
    "model = KNeighborsClassifier(n_neighbors=9)"
   ]
  },
  {
   "cell_type": "code",
   "execution_count": 43,
   "id": "29b8845f",
   "metadata": {},
   "outputs": [
    {
     "data": {
      "text/plain": [
       "KNeighborsClassifier(n_neighbors=9)"
      ]
     },
     "execution_count": 43,
     "metadata": {},
     "output_type": "execute_result"
    }
   ],
   "source": [
    "model.fit(x_train,y_train)"
   ]
  },
  {
   "cell_type": "code",
   "execution_count": 44,
   "id": "15d68254",
   "metadata": {},
   "outputs": [],
   "source": [
    "acc = model.score(x_test,y_test)"
   ]
  },
  {
   "cell_type": "code",
   "execution_count": 45,
   "id": "7bc529fe",
   "metadata": {},
   "outputs": [
    {
     "data": {
      "text/plain": [
       "0.9479768786127167"
      ]
     },
     "execution_count": 45,
     "metadata": {},
     "output_type": "execute_result"
    }
   ],
   "source": [
    "acc"
   ]
  },
  {
   "cell_type": "code",
   "execution_count": 46,
   "id": "163500ee",
   "metadata": {},
   "outputs": [],
   "source": [
    "predicted = model.predict(x_test)"
   ]
  },
  {
   "cell_type": "code",
   "execution_count": 47,
   "id": "716fe6fa",
   "metadata": {},
   "outputs": [],
   "source": [
    "test_data = [\"unacc\",\"acc\",\"good\",\"vgood\"]"
   ]
  },
  {
   "cell_type": "code",
   "execution_count": 48,
   "id": "5571a499",
   "metadata": {},
   "outputs": [
    {
     "name": "stdout",
     "output_type": "stream",
     "text": [
      "predicted data: good actual data: good\n",
      "predicted data: vgood actual data: vgood\n",
      "predicted data: good actual data: good\n",
      "predicted data: vgood actual data: vgood\n",
      "predicted data: good actual data: good\n",
      "predicted data: unacc actual data: unacc\n",
      "predicted data: good actual data: good\n",
      "predicted data: unacc actual data: unacc\n",
      "predicted data: unacc actual data: unacc\n",
      "predicted data: good actual data: good\n",
      "predicted data: good actual data: good\n",
      "predicted data: good actual data: good\n",
      "predicted data: good actual data: good\n",
      "predicted data: good actual data: good\n",
      "predicted data: good actual data: good\n",
      "predicted data: unacc actual data: unacc\n",
      "predicted data: good actual data: good\n",
      "predicted data: unacc actual data: unacc\n",
      "predicted data: acc actual data: acc\n",
      "predicted data: unacc actual data: unacc\n",
      "predicted data: unacc actual data: unacc\n",
      "predicted data: unacc actual data: unacc\n",
      "predicted data: good actual data: good\n",
      "predicted data: acc actual data: acc\n",
      "predicted data: good actual data: good\n",
      "predicted data: good actual data: good\n",
      "predicted data: unacc actual data: acc\n",
      "predicted data: good actual data: good\n",
      "predicted data: good actual data: good\n",
      "predicted data: good actual data: good\n",
      "predicted data: good actual data: good\n",
      "predicted data: good actual data: good\n",
      "predicted data: good actual data: good\n",
      "predicted data: good actual data: good\n",
      "predicted data: good actual data: good\n",
      "predicted data: unacc actual data: unacc\n",
      "predicted data: good actual data: good\n",
      "predicted data: good actual data: good\n",
      "predicted data: good actual data: unacc\n",
      "predicted data: good actual data: good\n",
      "predicted data: unacc actual data: unacc\n",
      "predicted data: unacc actual data: unacc\n",
      "predicted data: good actual data: good\n",
      "predicted data: good actual data: good\n",
      "predicted data: good actual data: good\n",
      "predicted data: good actual data: good\n",
      "predicted data: unacc actual data: unacc\n",
      "predicted data: good actual data: good\n",
      "predicted data: good actual data: good\n",
      "predicted data: good actual data: good\n",
      "predicted data: vgood actual data: vgood\n",
      "predicted data: good actual data: good\n",
      "predicted data: good actual data: good\n",
      "predicted data: good actual data: good\n",
      "predicted data: good actual data: good\n",
      "predicted data: good actual data: good\n",
      "predicted data: good actual data: good\n",
      "predicted data: unacc actual data: unacc\n",
      "predicted data: good actual data: good\n",
      "predicted data: good actual data: good\n",
      "predicted data: good actual data: good\n",
      "predicted data: good actual data: good\n",
      "predicted data: good actual data: good\n",
      "predicted data: unacc actual data: unacc\n",
      "predicted data: good actual data: good\n",
      "predicted data: unacc actual data: unacc\n",
      "predicted data: unacc actual data: unacc\n",
      "predicted data: good actual data: good\n",
      "predicted data: unacc actual data: unacc\n",
      "predicted data: good actual data: good\n",
      "predicted data: good actual data: good\n",
      "predicted data: good actual data: good\n",
      "predicted data: unacc actual data: acc\n",
      "predicted data: vgood actual data: vgood\n",
      "predicted data: good actual data: good\n",
      "predicted data: good actual data: good\n",
      "predicted data: good actual data: good\n",
      "predicted data: good actual data: good\n",
      "predicted data: good actual data: good\n",
      "predicted data: good actual data: good\n",
      "predicted data: good actual data: good\n",
      "predicted data: acc actual data: acc\n",
      "predicted data: unacc actual data: unacc\n",
      "predicted data: good actual data: good\n",
      "predicted data: good actual data: good\n",
      "predicted data: unacc actual data: unacc\n",
      "predicted data: good actual data: good\n",
      "predicted data: good actual data: good\n",
      "predicted data: good actual data: good\n",
      "predicted data: good actual data: good\n",
      "predicted data: vgood actual data: vgood\n",
      "predicted data: good actual data: good\n",
      "predicted data: good actual data: good\n",
      "predicted data: unacc actual data: good\n",
      "predicted data: good actual data: good\n",
      "predicted data: good actual data: unacc\n",
      "predicted data: good actual data: good\n",
      "predicted data: good actual data: good\n",
      "predicted data: unacc actual data: unacc\n",
      "predicted data: good actual data: good\n",
      "predicted data: good actual data: good\n",
      "predicted data: unacc actual data: good\n",
      "predicted data: good actual data: good\n",
      "predicted data: unacc actual data: unacc\n",
      "predicted data: good actual data: good\n",
      "predicted data: good actual data: good\n",
      "predicted data: good actual data: good\n",
      "predicted data: good actual data: good\n",
      "predicted data: good actual data: unacc\n",
      "predicted data: vgood actual data: vgood\n",
      "predicted data: good actual data: good\n",
      "predicted data: acc actual data: acc\n",
      "predicted data: good actual data: good\n",
      "predicted data: good actual data: good\n",
      "predicted data: vgood actual data: vgood\n",
      "predicted data: unacc actual data: unacc\n",
      "predicted data: good actual data: good\n",
      "predicted data: good actual data: good\n",
      "predicted data: unacc actual data: unacc\n",
      "predicted data: good actual data: good\n",
      "predicted data: good actual data: good\n",
      "predicted data: unacc actual data: unacc\n",
      "predicted data: good actual data: good\n",
      "predicted data: unacc actual data: unacc\n",
      "predicted data: good actual data: good\n",
      "predicted data: good actual data: good\n",
      "predicted data: good actual data: good\n",
      "predicted data: good actual data: good\n",
      "predicted data: good actual data: good\n",
      "predicted data: good actual data: good\n",
      "predicted data: unacc actual data: unacc\n",
      "predicted data: good actual data: good\n",
      "predicted data: good actual data: good\n",
      "predicted data: unacc actual data: unacc\n",
      "predicted data: good actual data: good\n",
      "predicted data: good actual data: good\n",
      "predicted data: good actual data: good\n",
      "predicted data: unacc actual data: unacc\n",
      "predicted data: unacc actual data: unacc\n",
      "predicted data: vgood actual data: vgood\n",
      "predicted data: unacc actual data: unacc\n",
      "predicted data: unacc actual data: unacc\n",
      "predicted data: good actual data: unacc\n",
      "predicted data: unacc actual data: unacc\n",
      "predicted data: good actual data: good\n",
      "predicted data: unacc actual data: unacc\n",
      "predicted data: good actual data: good\n",
      "predicted data: good actual data: good\n",
      "predicted data: good actual data: good\n",
      "predicted data: good actual data: good\n",
      "predicted data: unacc actual data: unacc\n",
      "predicted data: good actual data: good\n",
      "predicted data: good actual data: good\n",
      "predicted data: good actual data: good\n",
      "predicted data: good actual data: good\n",
      "predicted data: good actual data: good\n",
      "predicted data: good actual data: good\n",
      "predicted data: good actual data: good\n",
      "predicted data: good actual data: good\n",
      "predicted data: unacc actual data: unacc\n",
      "predicted data: good actual data: good\n",
      "predicted data: good actual data: good\n",
      "predicted data: unacc actual data: unacc\n",
      "predicted data: good actual data: good\n",
      "predicted data: unacc actual data: acc\n",
      "predicted data: good actual data: good\n",
      "predicted data: good actual data: good\n",
      "predicted data: good actual data: good\n",
      "predicted data: unacc actual data: unacc\n",
      "predicted data: unacc actual data: unacc\n",
      "predicted data: good actual data: good\n",
      "predicted data: good actual data: good\n",
      "predicted data: good actual data: good\n"
     ]
    }
   ],
   "source": [
    "for i in range(len(x_test)):\n",
    "    print(\"predicted data:\",test_data[predicted[i]],\"actual data:\",test_data[y_test[i]])"
   ]
  },
  {
   "cell_type": "code",
   "execution_count": null,
   "id": "f6f45170",
   "metadata": {},
   "outputs": [],
   "source": []
  }
 ],
 "metadata": {
  "kernelspec": {
   "display_name": "Python 3 (ipykernel)",
   "language": "python",
   "name": "python3"
  },
  "language_info": {
   "codemirror_mode": {
    "name": "ipython",
    "version": 3
   },
   "file_extension": ".py",
   "mimetype": "text/x-python",
   "name": "python",
   "nbconvert_exporter": "python",
   "pygments_lexer": "ipython3",
   "version": "3.9.7"
  }
 },
 "nbformat": 4,
 "nbformat_minor": 5
}
